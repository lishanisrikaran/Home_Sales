{
  "cells": [
    {
      "cell_type": "code",
      "execution_count": 1,
      "metadata": {
        "colab": {
          "base_uri": "https://localhost:8080/"
        },
        "id": "a_KW73O2e3dw",
        "outputId": "41f3880c-4a6d-4a33-e527-f1b3571f0ff4"
      },
      "outputs": [
        {
          "output_type": "stream",
          "name": "stdout",
          "text": [
            "\r0% [Working]\r            \rHit:1 https://developer.download.nvidia.com/compute/cuda/repos/ubuntu2204/x86_64  InRelease\n",
            "\r0% [Waiting for headers] [Connecting to security.ubuntu.com] [Waiting for heade\r                                                                               \rHit:2 https://cloud.r-project.org/bin/linux/ubuntu jammy-cran40/ InRelease\n",
            "\r0% [Waiting for headers] [Connecting to security.ubuntu.com (91.189.91.81)] [Co\r                                                                               \rHit:3 http://archive.ubuntu.com/ubuntu jammy InRelease\n",
            "\r0% [Waiting for headers] [Connecting to security.ubuntu.com (91.189.91.81)] [Co\r                                                                               \rHit:4 http://archive.ubuntu.com/ubuntu jammy-updates InRelease\n",
            "Hit:5 http://security.ubuntu.com/ubuntu jammy-security InRelease\n",
            "Hit:6 http://archive.ubuntu.com/ubuntu jammy-backports InRelease\n",
            "Hit:7 https://ppa.launchpadcontent.net/c2d4u.team/c2d4u4.0+/ubuntu jammy InRelease\n",
            "Hit:8 https://ppa.launchpadcontent.net/deadsnakes/ppa/ubuntu jammy InRelease\n",
            "Hit:9 https://ppa.launchpadcontent.net/graphics-drivers/ppa/ubuntu jammy InRelease\n",
            "Hit:10 https://ppa.launchpadcontent.net/ubuntugis/ppa/ubuntu jammy InRelease\n",
            "Reading package lists... Done\n"
          ]
        }
      ],
      "source": [
        "# Sets up the Apache Spark environment by importing the necessary libraries and packages:\n",
        "\n",
        "import os                                                                                                         # Enables interaction with the operating system\n",
        "\n",
        "\n",
        "# Defines the latest version of Apache Spark version (currently 3.4.0) and sets up it up in the operating system's environment variables\n",
        "# The latest version  of Apache Spark can be found on http://www.apache.org/dist/spark/\n",
        "spark_version = 'spark-3.4.0'\n",
        "os.environ['SPARK_VERSION']=spark_version\n",
        "\n",
        "# Installs Apache Spark and Java (Apache Spark requires Java to run)\n",
        "# The exclamation mark '!' indicates that the line is ran in the terminal environment\n",
        "!apt-get update                                                                                                   # Ensures the package manager has the latest information about the available software packages\n",
        "!apt-get install openjdk-11-jdk-headless -qq > /dev/null                                                          # Installs the OpenJDK 11 which is a Java Development kit\n",
        "!wget -q http://www.apache.org/dist/spark/$SPARK_VERSION/$SPARK_VERSION-bin-hadoop3.tgz                           # Visits the Apache website and gets the tgz file that contains the compressed Spark packaged for Hadoop\n",
        "!tar xf $SPARK_VERSION-bin-hadoop3.tgz                                                                            # Unpacks Spark into the current directory\n",
        "!pip install -q findspark                                                                                         # Installs findspark which enables the Python environment to work with the installed Spark version (3.4.0)\n",
        "\n",
        "# Sets up environment Variables for Java and Apache Spark installations (pointing to where the installation is located)\n",
        "os.environ[\"JAVA_HOME\"] = \"/usr/lib/jvm/java-11-openjdk-amd64\"\n",
        "os.environ[\"SPARK_HOME\"] = f\"/content/{spark_version}-bin-hadoop3\"\n",
        "\n",
        "# Starts a SparkSession\n",
        "import findspark\n",
        "findspark.init()"
      ]
    },
    {
      "cell_type": "code",
      "execution_count": 2,
      "metadata": {
        "id": "2XbWNf1Te5fM"
      },
      "outputs": [],
      "source": [
        "# Imports packages\n",
        "from pyspark.sql import SparkSession                                                                              # Enables the creation and management of Spark sessions where the session acts as a end point to work with the Apache Spark API\n",
        "import time                                                                                                       # Enables time related operations in Python\n",
        "\n",
        "# Sets up a SparkSession in a PySpark application\n",
        "# Configurations include showing up to 2000 string characters and increasing the default driver memory from 1g to 2g due to the dataset size being worked with\n",
        "spark = SparkSession.builder \\\n",
        "    .appName(\"SparkSQL\") \\\n",
        "    .config(\"spark.sql.debug.maxToStringFields\", 2000) \\\n",
        "    .config(\"spark.driver.memory\", \"2g\") \\\n",
        "    .getOrCreate()"
      ]
    },
    {
      "cell_type": "code",
      "execution_count": 3,
      "metadata": {
        "id": "wOJqxG_RPSwp",
        "colab": {
          "base_uri": "https://localhost:8080/"
        },
        "outputId": "431548c6-b7e4-4a1b-ebba-f9451c0dcaeb"
      },
      "outputs": [
        {
          "output_type": "stream",
          "name": "stdout",
          "text": [
            "+--------------------+----------+----------+------+--------+---------+-----------+--------+------+----------+----+\n",
            "|                  id|      date|date_built| price|bedrooms|bathrooms|sqft_living|sqft_lot|floors|waterfront|view|\n",
            "+--------------------+----------+----------+------+--------+---------+-----------+--------+------+----------+----+\n",
            "|f8a53099-ba1c-47d...|2022-04-08|      2016|936923|       4|        3|       3167|   11733|     2|         1|  76|\n",
            "|7530a2d8-1ae3-451...|2021-06-13|      2013|379628|       2|        2|       2235|   14384|     1|         0|  23|\n",
            "|43de979c-0bf0-4c9...|2019-04-12|      2014|417866|       2|        2|       2127|   10575|     2|         0|   0|\n",
            "|b672c137-b88c-48b...|2019-10-16|      2016|239895|       2|        2|       1631|   11149|     2|         0|   0|\n",
            "|e0726d4d-d595-407...|2022-01-08|      2017|424418|       3|        2|       2249|   13878|     2|         0|   4|\n",
            "|5aa00529-0533-46b...|2019-01-30|      2017|218712|       2|        3|       1965|   14375|     2|         0|   7|\n",
            "|131492a1-72e2-4a8...|2020-02-08|      2017|419199|       2|        3|       2062|    8876|     2|         0|   6|\n",
            "|8d54a71b-c520-44e...|2019-07-21|      2010|323956|       2|        3|       1506|   11816|     1|         0|  25|\n",
            "|e81aacfe-17fe-46b...|2020-06-16|      2016|181925|       3|        3|       2137|   11709|     2|         0|  22|\n",
            "|2ed8d509-7372-46d...|2021-08-06|      2015|258710|       3|        3|       1918|    9666|     1|         0|  25|\n",
            "|f876d86f-3c9f-42b...|2019-02-27|      2011|167864|       3|        3|       2471|   13924|     2|         0|  15|\n",
            "|0a2bd445-8508-4d8...|2021-12-30|      2014|337527|       2|        3|       1926|   12556|     1|         0|  23|\n",
            "|941bad30-eb49-4a7...|2020-05-09|      2015|229896|       3|        3|       2197|    8641|     1|         0|   3|\n",
            "|dd61eb34-6589-4c0...|2021-07-25|      2016|210247|       3|        2|       1672|   11986|     2|         0|  28|\n",
            "|f1e4cef7-d151-439...|2019-02-01|      2011|398667|       2|        3|       2331|   11356|     1|         0|   7|\n",
            "|ea620c7b-c2f7-4c6...|2021-05-31|      2011|437958|       3|        3|       2356|   11052|     1|         0|  26|\n",
            "|f233cb41-6f33-4b0...|2021-07-18|      2016|437375|       4|        3|       1704|   11721|     2|         0|  34|\n",
            "|c797ca12-52cd-4b1...|2019-06-08|      2015|288650|       2|        3|       2100|   10419|     2|         0|   7|\n",
            "|0cfe57f3-28c2-472...|2019-10-04|      2015|308313|       3|        3|       1960|    9453|     2|         0|   2|\n",
            "|4566cd2a-ac6e-435...|2019-07-15|      2016|177541|       3|        3|       2130|   10517|     2|         0|  25|\n",
            "+--------------------+----------+----------+------+--------+---------+-----------+--------+------+----------+----+\n",
            "only showing top 20 rows\n",
            "\n"
          ]
        }
      ],
      "source": [
        "# 1. Reads in the AWS S3 bucket into a home sales DataFrame.\n",
        "from pyspark import SparkFiles\n",
        "url = \"https://2u-data-curriculum-team.s3.amazonaws.com/dataviz-classroom/v1.2/22-big-data/home_sales_revised.csv\"\n",
        "\n",
        "spark.sparkContext.addFile(url)\n",
        "\n",
        "home_sales_df = spark.read.csv(SparkFiles.get(\"home_sales_revised.csv\"), sep= \",\", header=True)\n",
        "\n",
        "home_sales_df.show()"
      ]
    },
    {
      "cell_type": "code",
      "execution_count": 4,
      "metadata": {
        "id": "RoljcJ7WPpnm"
      },
      "outputs": [],
      "source": [
        "# 2. Creates a temporary view of the DataFrame.\n",
        "# This enables us to query the data in Apache Spark uing SQL languages\n",
        "\n",
        "home_sales_df.createOrReplaceTempView('home_sales')"
      ]
    },
    {
      "cell_type": "code",
      "execution_count": 5,
      "metadata": {
        "id": "L6fkwOeOmqvq",
        "colab": {
          "base_uri": "https://localhost:8080/"
        },
        "outputId": "32e4a06d-3c93-4fcc-b0aa-2fca1fde1be6"
      },
      "outputs": [
        {
          "output_type": "stream",
          "name": "stdout",
          "text": [
            "+-------------+---------+\n",
            "|Average Price|Year Sold|\n",
            "+-------------+---------+\n",
            "|  $300,263.70|     2019|\n",
            "|  $298,353.78|     2020|\n",
            "|  $301,819.44|     2021|\n",
            "|  $296,363.88|     2022|\n",
            "+-------------+---------+\n",
            "\n"
          ]
        }
      ],
      "source": [
        "# 3. Returns the average price for a four bedroom house sold in each year rounded to two decimal places and formatted as a currency\n",
        "\n",
        "query = \"\"\"\n",
        "SELECT\n",
        "  CONCAT('$', FORMAT_NUMBER(AVG(price), 2)) AS `Average Price`,\n",
        "  YEAR(date) AS `Year Sold`\n",
        "FROM\n",
        "  home_sales\n",
        "WHERE\n",
        "  bedrooms = 4\n",
        "GROUP BY\n",
        "  `Year Sold`\n",
        "ORDER BY\n",
        "  `Year Sold`\n",
        "\"\"\"\n",
        "spark.sql(query).show()"
      ]
    },
    {
      "cell_type": "code",
      "execution_count": 6,
      "metadata": {
        "id": "l8p_tUS8h8it",
        "colab": {
          "base_uri": "https://localhost:8080/"
        },
        "outputId": "e58283cc-1ec0-4310-ba8c-c59a567f3023"
      },
      "outputs": [
        {
          "output_type": "stream",
          "name": "stdout",
          "text": [
            "+-------------+----------+\n",
            "|Average Price|Year Built|\n",
            "+-------------+----------+\n",
            "|  $292,859.62|      2010|\n",
            "|  $291,117.47|      2011|\n",
            "|  $293,683.19|      2012|\n",
            "|  $295,962.27|      2013|\n",
            "|  $290,852.27|      2014|\n",
            "|  $288,770.30|      2015|\n",
            "|  $290,555.07|      2016|\n",
            "|  $292,676.79|      2017|\n",
            "+-------------+----------+\n",
            "\n"
          ]
        }
      ],
      "source": [
        "# 4. Returns the average price of a home for each year the home was built that have 3 bedrooms and 3 bathrooms rounded to two decimal places?\n",
        "\n",
        "query = \"\"\"\n",
        "SELECT\n",
        "  CONCAT('$', FORMAT_NUMBER(AVG(price), 2)) AS `Average Price`,\n",
        "  YEAR(date_built) AS `Year Built`\n",
        "FROM\n",
        "  home_sales\n",
        "WHERE\n",
        "  bedrooms = 3 AND bathrooms = 3\n",
        "GROUP BY\n",
        "  `Year Built`\n",
        "ORDER BY\n",
        "  `Year Built`\n",
        "\"\"\"\n",
        "spark.sql(query).show()\n"
      ]
    },
    {
      "cell_type": "code",
      "execution_count": 7,
      "metadata": {
        "id": "Y-Eytz64liDU",
        "colab": {
          "base_uri": "https://localhost:8080/"
        },
        "outputId": "cc3ecdd7-2302-49f6-def7-8f322592ea71"
      },
      "outputs": [
        {
          "output_type": "stream",
          "name": "stdout",
          "text": [
            "+-------------+----------+\n",
            "|Average Price|Year Built|\n",
            "+-------------+----------+\n",
            "|  $285,010.22|      2010|\n",
            "|  $276,553.81|      2011|\n",
            "|  $307,539.97|      2012|\n",
            "|  $303,676.79|      2013|\n",
            "|  $298,264.72|      2014|\n",
            "|  $297,609.97|      2015|\n",
            "|  $293,965.10|      2016|\n",
            "|  $280,317.58|      2017|\n",
            "+-------------+----------+\n",
            "\n"
          ]
        }
      ],
      "source": [
        "# 5. Returns the average price of a home for each year built that have 3 bedrooms, 3 bathrooms, with two floors,\n",
        "# and are greater than or equal to 2,000 square feet rounded to two decimal places?\n",
        "\n",
        "query = \"\"\"\n",
        "SELECT\n",
        "  CONCAT('$', FORMAT_NUMBER(AVG(price), 2)) AS `Average Price`,\n",
        "  YEAR(date_built) AS `Year Built`\n",
        "FROM\n",
        "  home_sales\n",
        "WHERE\n",
        "  bedrooms = 3 AND\n",
        "  bathrooms = 3 AND\n",
        "  floors = 2 AND\n",
        "  sqft_living >= 2000\n",
        "GROUP BY\n",
        "  `Year Built`\n",
        "ORDER BY\n",
        "  `Year Built`\n",
        "\"\"\"\n",
        "spark.sql(query).show()"
      ]
    },
    {
      "cell_type": "code",
      "execution_count": 8,
      "metadata": {
        "colab": {
          "base_uri": "https://localhost:8080/"
        },
        "id": "GUrfgOX1pCRd",
        "outputId": "fbe6f281-37de-4720-e3d7-b35acae2bda4"
      },
      "outputs": [
        {
          "output_type": "stream",
          "name": "stdout",
          "text": [
            "+-------------+----+\n",
            "|Average Price|View|\n",
            "+-------------+----+\n",
            "|  $403,848.51|   0|\n",
            "|  $401,044.25|   1|\n",
            "|  $397,389.25|   2|\n",
            "|  $398,867.60|   3|\n",
            "|  $399,631.89|   4|\n",
            "|  $401,471.82|   5|\n",
            "|  $395,655.38|   6|\n",
            "|  $403,005.77|   7|\n",
            "|  $398,592.71|   8|\n",
            "|  $401,393.34|   9|\n",
            "|  $401,868.43|  10|\n",
            "|  $399,548.12|  11|\n",
            "|  $401,501.32|  12|\n",
            "|  $398,917.98|  13|\n",
            "|  $398,570.03|  14|\n",
            "|  $404,673.30|  15|\n",
            "|  $399,586.53|  16|\n",
            "|  $398,474.49|  17|\n",
            "|  $399,332.91|  18|\n",
            "|  $398,953.17|  19|\n",
            "+-------------+----+\n",
            "only showing top 20 rows\n",
            "\n",
            "--- 1.2596919536590576 seconds ---\n"
          ]
        }
      ],
      "source": [
        "# 6. Returns the \"view\" rating for the average price of a home, rounded to two decimal places, where the homes are greater than or equal to $350,000.\n",
        "# The runtime for the query is also output\n",
        "\n",
        "start_time = time.time()\n",
        "\n",
        "query = \"\"\"\n",
        "SELECT\n",
        "  CONCAT('$', FORMAT_NUMBER(AVG(price), 2)) AS `Average Price`,\n",
        "  CAST(view AS INT) AS `View`\n",
        "FROM\n",
        "  home_sales\n",
        "WHERE\n",
        "  price >= 350000\n",
        "GROUP BY\n",
        "  `View`\n",
        "ORDER BY\n",
        "  `View`\n",
        "\"\"\"\n",
        "spark.sql(query).show()\n",
        "\n",
        "\n",
        "print(\"--- %s seconds ---\" % (time.time() - start_time))"
      ]
    },
    {
      "cell_type": "code",
      "execution_count": 9,
      "metadata": {
        "id": "KAhk3ZD2tFy8",
        "colab": {
          "base_uri": "https://localhost:8080/"
        },
        "outputId": "659c22c0-ad6a-4834-931b-fff91484c897"
      },
      "outputs": [
        {
          "output_type": "execute_result",
          "data": {
            "text/plain": [
              "DataFrame[]"
            ]
          },
          "metadata": {},
          "execution_count": 9
        }
      ],
      "source": [
        "# 7. Caches the the temporary table home_sales.\n",
        "spark.sql(\"cache table home_sales\")"
      ]
    },
    {
      "cell_type": "code",
      "execution_count": 10,
      "metadata": {
        "id": "4opVhbvxtL-i",
        "colab": {
          "base_uri": "https://localhost:8080/"
        },
        "outputId": "ba3e9b1e-7155-4cc5-8a11-0a7b03d6ce7b"
      },
      "outputs": [
        {
          "output_type": "execute_result",
          "data": {
            "text/plain": [
              "True"
            ]
          },
          "metadata": {},
          "execution_count": 10
        }
      ],
      "source": [
        "# 8. Checks if the table is cached.\n",
        "spark.catalog.isCached('home_sales')"
      ]
    },
    {
      "cell_type": "code",
      "execution_count": 19,
      "metadata": {
        "colab": {
          "base_uri": "https://localhost:8080/"
        },
        "id": "5GnL46lwTSEk",
        "outputId": "dd015fa1-3366-4130-b2a0-72d10177fa33"
      },
      "outputs": [
        {
          "output_type": "stream",
          "name": "stdout",
          "text": [
            "+-------------+----+\n",
            "|Average Price|View|\n",
            "+-------------+----+\n",
            "|  $403,848.51|   0|\n",
            "|  $401,044.25|   1|\n",
            "|  $397,389.25|   2|\n",
            "|  $398,867.60|   3|\n",
            "|  $399,631.89|   4|\n",
            "|  $401,471.82|   5|\n",
            "|  $395,655.38|   6|\n",
            "|  $403,005.77|   7|\n",
            "|  $398,592.71|   8|\n",
            "|  $401,393.34|   9|\n",
            "|  $401,868.43|  10|\n",
            "|  $399,548.12|  11|\n",
            "|  $401,501.32|  12|\n",
            "|  $398,917.98|  13|\n",
            "|  $398,570.03|  14|\n",
            "|  $404,673.30|  15|\n",
            "|  $399,586.53|  16|\n",
            "|  $398,474.49|  17|\n",
            "|  $399,332.91|  18|\n",
            "|  $398,953.17|  19|\n",
            "+-------------+----+\n",
            "only showing top 20 rows\n",
            "\n",
            "--- 0.36684656143188477 seconds ---\n"
          ]
        }
      ],
      "source": [
        "# 6. Using the cached data, returns the \"view\" rating for the average price of a home, rounded to two decimal places, where the homes are greater than or equal to $350,000.\n",
        "# The runtime for the query is also output\n",
        "\n",
        "start_time = time.time()\n",
        "\n",
        "query = \"\"\"\n",
        "SELECT\n",
        "  CONCAT('$', FORMAT_NUMBER(AVG(price), 2)) AS `Average Price`,\n",
        "  CAST(view AS INT) AS `View`\n",
        "FROM\n",
        "  home_sales\n",
        "WHERE\n",
        "  price >= 350000\n",
        "GROUP BY\n",
        "  `View`\n",
        "ORDER BY\n",
        "  `View`\n",
        "\"\"\"\n",
        "spark.sql(query).show()\n",
        "\n",
        "print(\"--- %s seconds ---\" % (time.time() - start_time))\n"
      ]
    },
    {
      "cell_type": "code",
      "execution_count": 20,
      "metadata": {
        "id": "Qm12WN9isHBR"
      },
      "outputs": [],
      "source": [
        "# 10. Partition by the \"date_built\" field on the formatted parquet home sales data\n",
        "home_sales_df.write.partitionBy('date_built').mode(\"overwrite\").parquet(\"home_sales_partitioned\")"
      ]
    },
    {
      "cell_type": "code",
      "execution_count": 21,
      "metadata": {
        "id": "AZ7BgY61sRqY"
      },
      "outputs": [],
      "source": [
        "# 11. Read the parquet formatted data.\n",
        "p_home_sales_df_p = spark.read.parquet('home_sales_partitioned')"
      ]
    },
    {
      "cell_type": "code",
      "execution_count": 22,
      "metadata": {
        "id": "J6MJkHfvVcvh"
      },
      "outputs": [],
      "source": [
        "# 12. Create a temporary table for the parquet data.\n",
        "p_home_sales_df_p.createOrReplaceTempView('p_home_sales_p')"
      ]
    },
    {
      "cell_type": "code",
      "execution_count": 23,
      "metadata": {
        "colab": {
          "base_uri": "https://localhost:8080/"
        },
        "id": "G_Vhb52rU1Sn",
        "outputId": "8a60ee9e-0bdd-4ecc-de05-92687e0ad848"
      },
      "outputs": [
        {
          "output_type": "stream",
          "name": "stdout",
          "text": [
            "+-------------+----+\n",
            "|Average Price|View|\n",
            "+-------------+----+\n",
            "|  $403,848.51|   0|\n",
            "|  $401,044.25|   1|\n",
            "|  $397,389.25|   2|\n",
            "|  $398,867.60|   3|\n",
            "|  $399,631.89|   4|\n",
            "|  $401,471.82|   5|\n",
            "|  $395,655.38|   6|\n",
            "|  $403,005.77|   7|\n",
            "|  $398,592.71|   8|\n",
            "|  $401,393.34|   9|\n",
            "|  $401,868.43|  10|\n",
            "|  $399,548.12|  11|\n",
            "|  $401,501.32|  12|\n",
            "|  $398,917.98|  13|\n",
            "|  $398,570.03|  14|\n",
            "|  $404,673.30|  15|\n",
            "|  $399,586.53|  16|\n",
            "|  $398,474.49|  17|\n",
            "|  $399,332.91|  18|\n",
            "|  $398,953.17|  19|\n",
            "+-------------+----+\n",
            "only showing top 20 rows\n",
            "\n",
            "--- 0.5645301342010498 seconds ---\n"
          ]
        }
      ],
      "source": [
        "# 13. Run the query that filters out the view ratings with average price of greater than or equal to $350,000\n",
        "# with the parquet DataFrame. Round your average to two decimal places.\n",
        "# Determine the runtime and compare it to the cached version.\n",
        "\n",
        "start_time = time.time()\n",
        "\n",
        "query = \"\"\"\n",
        "SELECT\n",
        "  CONCAT('$', FORMAT_NUMBER(AVG(price), 2)) AS `Average Price`,\n",
        "  CAST(view AS INT) AS `View`\n",
        "FROM\n",
        "  home_sales\n",
        "WHERE\n",
        "  price >= 350000\n",
        "GROUP BY\n",
        "  `View`\n",
        "ORDER BY\n",
        "  `View`\n",
        "\"\"\"\n",
        "spark.sql(query).show()\n",
        "\n",
        "print(\"--- %s seconds ---\" % (time.time() - start_time))"
      ]
    },
    {
      "cell_type": "code",
      "execution_count": 24,
      "metadata": {
        "id": "hjjYzQGjtbq8",
        "colab": {
          "base_uri": "https://localhost:8080/"
        },
        "outputId": "b657e45c-5924-438e-e0ae-671385403281"
      },
      "outputs": [
        {
          "output_type": "execute_result",
          "data": {
            "text/plain": [
              "DataFrame[]"
            ]
          },
          "metadata": {},
          "execution_count": 24
        }
      ],
      "source": [
        "# 14. Uncache the home_sales temporary table.\n",
        "spark.sql(\"uncache table home_sales\")"
      ]
    },
    {
      "cell_type": "code",
      "execution_count": 25,
      "metadata": {
        "id": "Sy9NBvO7tlmm",
        "colab": {
          "base_uri": "https://localhost:8080/"
        },
        "outputId": "9a948d02-1467-4b80-ff5d-b58aa69bc556"
      },
      "outputs": [
        {
          "output_type": "stream",
          "name": "stdout",
          "text": [
            "all clear - the home sales table is not cached\n"
          ]
        }
      ],
      "source": [
        "# 15. Check if the home_sales is no longer cached\n",
        "if spark.catalog.isCached(\"home_sales\"):\n",
        "  print(\"a table is still cached\")\n",
        "else:\n",
        "  print(\"all clear - the home sales table is not cached\")\n"
      ]
    }
  ],
  "metadata": {
    "colab": {
      "provenance": []
    },
    "gpuClass": "standard",
    "kernelspec": {
      "display_name": "Python 3 (ipykernel)",
      "language": "python",
      "name": "python3"
    },
    "language_info": {
      "codemirror_mode": {
        "name": "ipython",
        "version": 3
      },
      "file_extension": ".py",
      "mimetype": "text/x-python",
      "name": "python",
      "nbconvert_exporter": "python",
      "pygments_lexer": "ipython3",
      "version": "3.10.4"
    },
    "nteract": {
      "version": "0.28.0"
    }
  },
  "nbformat": 4,
  "nbformat_minor": 0
}